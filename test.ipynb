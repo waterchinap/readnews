{
 "cells": [
  {
   "cell_type": "code",
   "execution_count": 1,
   "metadata": {},
   "outputs": [],
   "source": [
    "import feedparser"
   ]
  },
  {
   "cell_type": "code",
   "execution_count": 2,
   "metadata": {},
   "outputs": [],
   "source": [
    "f = feedparser.parse('http://localhost:1200/zaobao/znews/china')"
   ]
  },
  {
   "cell_type": "code",
   "execution_count": 5,
   "metadata": {},
   "outputs": [
    {
     "data": {
      "text/plain": [
       "{'title': '《联合早报》-中国-新闻',\n",
       " 'title_detail': {'type': 'text/plain',\n",
       "  'language': None,\n",
       "  'base': 'http://localhost:1200/zaobao/znews/china',\n",
       "  'value': '《联合早报》-中国-新闻'},\n",
       " 'links': [{'rel': 'alternate',\n",
       "   'type': 'text/html',\n",
       "   'href': 'https://www.zaobao.com/news/china'},\n",
       "  {'href': 'http://localhost:1200/zaobao/znews/china',\n",
       "   'rel': 'self',\n",
       "   'type': 'application/rss+xml'}],\n",
       " 'link': 'https://www.zaobao.com/news/china',\n",
       " 'subtitle': '新加坡、中国、亚洲和国际的即时、评论、商业、体育、生活、科技与多媒体新闻，尽在联合早报。 - Made with love by RSSHub(https://github.com/DIYgod/RSSHub)',\n",
       " 'subtitle_detail': {'type': 'text/html',\n",
       "  'language': None,\n",
       "  'base': 'http://localhost:1200/zaobao/znews/china',\n",
       "  'value': '新加坡、中国、亚洲和国际的即时、评论、商业、体育、生活、科技与多媒体新闻，尽在联合早报。 - Made with love by RSSHub(https://github.com/DIYgod/RSSHub)'},\n",
       " 'generator_detail': {'name': 'RSSHub'},\n",
       " 'generator': 'RSSHub',\n",
       " 'publisher': 'i@diygod.me (DIYgod)',\n",
       " 'publisher_detail': {'name': 'DIYgod', 'email': 'i@diygod.me'},\n",
       " 'language': 'en',\n",
       " 'updated': 'Sat, 13 Jul 2024 15:25:52 GMT',\n",
       " 'updated_parsed': time.struct_time(tm_year=2024, tm_mon=7, tm_mday=13, tm_hour=15, tm_min=25, tm_sec=52, tm_wday=5, tm_yday=195, tm_isdst=0),\n",
       " 'ttl': '5'}"
      ]
     },
     "execution_count": 5,
     "metadata": {},
     "output_type": "execute_result"
    }
   ],
   "source": [
    "f['feed']"
   ]
  },
  {
   "cell_type": "code",
   "execution_count": null,
   "metadata": {},
   "outputs": [],
   "source": []
  }
 ],
 "metadata": {
  "kernelspec": {
   "display_name": ".venv",
   "language": "python",
   "name": "python3"
  },
  "language_info": {
   "codemirror_mode": {
    "name": "ipython",
    "version": 3
   },
   "file_extension": ".py",
   "mimetype": "text/x-python",
   "name": "python",
   "nbconvert_exporter": "python",
   "pygments_lexer": "ipython3",
   "version": "3.12.3"
  }
 },
 "nbformat": 4,
 "nbformat_minor": 2
}
